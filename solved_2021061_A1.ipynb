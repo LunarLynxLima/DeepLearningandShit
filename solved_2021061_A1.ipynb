{
  "cells": [
    {
      "cell_type": "code",
      "execution_count": 125,
      "metadata": {
        "id": "seC5_vNo2WGC"
      },
      "outputs": [],
      "source": [
        "import os\n",
        "import math\n",
        "import numpy as np\n",
        "from PIL import Image\n",
        "\n",
        "import time\n",
        "import torch\n",
        "import torch.nn as nn\n",
        "import torch.optim as optim\n",
        "import torch.nn.functional as F\n",
        "from torchvision import transforms\n",
        "from torch.utils.data import random_split\n",
        "from torch.utils.data import Dataset, DataLoader\n",
        "\n",
        "import matplotlib.pyplot as plt"
      ]
    },
    {
      "cell_type": "markdown",
      "metadata": {
        "id": "hgcug7CZ0eJD"
      },
      "source": [
        "### Unzip MNIST-Dataet"
      ]
    },
    {
      "cell_type": "code",
      "source": [
        "import gdown\n",
        "\n",
        "url = \"https://drive.google.com/file/d/1Teb30_4NGI_6fbXj58KACnYzwhKVxPXV/view?usp=drive_link\"\n",
        "output = \"MNIST_DATASET.tar.xz\"\n",
        "gdown.download(url,output)"
      ],
      "metadata": {
        "colab": {
          "base_uri": "https://localhost:8080/",
          "height": 160
        },
        "id": "B6rcyR4iSEd2",
        "outputId": "b303879e-d08b-49cb-ece8-2fce77673d34"
      },
      "execution_count": 84,
      "outputs": [
        {
          "output_type": "stream",
          "name": "stderr",
          "text": [
            "/usr/local/lib/python3.10/dist-packages/gdown/parse_url.py:44: UserWarning: You specified a Google Drive link that is not the correct link to download a file. You might want to try `--fuzzy` option or the following url: https://drive.google.com/uc?id=1Teb30_4NGI_6fbXj58KACnYzwhKVxPXV\n",
            "  warnings.warn(\n",
            "Downloading...\n",
            "From: https://drive.google.com/file/d/1Teb30_4NGI_6fbXj58KACnYzwhKVxPXV/view?usp=drive_link\n",
            "To: /content/MNIST_DATASET.tar.xz\n",
            "82.5kB [00:00, 136MB/s]\n"
          ]
        },
        {
          "output_type": "execute_result",
          "data": {
            "text/plain": [
              "'MNIST_DATASET.tar.xz'"
            ],
            "application/vnd.google.colaboratory.intrinsic+json": {
              "type": "string"
            }
          },
          "metadata": {},
          "execution_count": 84
        }
      ]
    },
    {
      "cell_type": "code",
      "source": [
        "from google.colab import drive\n",
        "drive.mount('/content/drive')"
      ],
      "metadata": {
        "id": "ukRDFPXR1o5M",
        "outputId": "3cdfefd2-dc6c-4341-da3c-4de9d5320f86",
        "colab": {
          "base_uri": "https://localhost:8080/"
        }
      },
      "execution_count": 85,
      "outputs": [
        {
          "output_type": "stream",
          "name": "stdout",
          "text": [
            "Mounted at /content/drive\n"
          ]
        }
      ]
    },
    {
      "cell_type": "code",
      "execution_count": 86,
      "metadata": {
        "colab": {
          "base_uri": "https://localhost:8080/"
        },
        "id": "C3BpvUbB0Stl",
        "outputId": "f5399585-daad-4e75-fff1-cea5ee3094f0"
      },
      "outputs": [
        {
          "output_type": "stream",
          "name": "stdout",
          "text": [
            "> MNIST_DATASET folder does not exist.\n",
            "> Extracting MNIST_DATASET.tar.xz\n"
          ]
        }
      ],
      "source": [
        "dataset_folder = \"/content/MNIST_DATASET/MNIST_DATASET\"\n",
        "\n",
        "# check for dataset existence\n",
        "if os.path.exists(dataset_folder):\n",
        "    print(\"> MNIST_DATASET folder already exists.\")\n",
        "else:\n",
        "    print(\"> MNIST_DATASET folder does not exist.\\n> Extracting MNIST_DATASET.tar.xz\")\n",
        "    import tarfile\n",
        "    file = tarfile.open('/content/drive/MyDrive/IIITD/MNIST_DATASET.tar.xz')\n",
        "    # upload tar.xz in runtine\n",
        "    # file = tarfile.open('MNIST_DATASET.tar.xz')\n",
        "    file.extractall('./MNIST_DATASET')\n",
        "    file.close()"
      ]
    },
    {
      "cell_type": "code",
      "execution_count": 87,
      "metadata": {
        "id": "Ephn0E1OpMVl"
      },
      "outputs": [],
      "source": [
        "# Set the paths for training and testing data\n",
        "train_data_path = r\"/content/MNIST_DATASET/MNIST_DATASET/trainingSet/trainingSet\"\n",
        "test_data_path = r\"/content/MNIST_DATASET/MNIST_DATASET/testSet\" #/testSet\""
      ]
    },
    {
      "cell_type": "markdown",
      "metadata": {
        "id": "Cayu42Zii2y3"
      },
      "source": [
        "## Custom Dataset and tranformers"
      ]
    },
    {
      "cell_type": "code",
      "execution_count": 88,
      "metadata": {
        "id": "9yMzfT6sfJn-"
      },
      "outputs": [],
      "source": [
        "class CustomTransform:\n",
        "    def __init__(self, target_size=(28, 28)):\n",
        "        self.target_size = target_size\n",
        "\n",
        "    def __call__(self, img):\n",
        "        # Resize\n",
        "        # img = img.resize(self.target_size, Image.ANTIALIAS)\n",
        "        # Convert to NumPy array and normalize\n",
        "        img_array = np.array(img, dtype=np.float32) / 255.0\n",
        "        # Convert to PyTorch tensor\n",
        "        img_tensor = torch.from_numpy(img_array)\n",
        "\n",
        "        return img_tensor"
      ]
    },
    {
      "cell_type": "code",
      "execution_count": 89,
      "metadata": {
        "id": "0ZlaQzxx61iF"
      },
      "outputs": [],
      "source": [
        "# class MNISTDataset():\n",
        "class MNISTDataset(Dataset):\n",
        "    def __init__(self, root, transform=None):\n",
        "        self.root = root\n",
        "        self.transform = transform\n",
        "        self.data = []\n",
        "\n",
        "        for label in os.listdir(root):\n",
        "            label_path = os.path.join(root, label)\n",
        "            for img_name in os.listdir(label_path):\n",
        "                img_path = os.path.join(label_path, img_name)\n",
        "                if(label.isdigit()):\n",
        "                    self.data.append((img_path, int(label)))\n",
        "                else:\n",
        "                    self.data.append((img_path,-1))\n",
        "\n",
        "    def __len__(self):\n",
        "        return len(self.data)\n",
        "\n",
        "    def __getitem__(self, idx):\n",
        "        img_path, label = self.data[idx]\n",
        "        # img = Image.open(img_path)\n",
        "        img = Image.open(img_path).convert('L')  # Convert to grayscale\n",
        "        if self.transform:\n",
        "            img = self.transform(img)\n",
        "        label = torch.tensor(label, dtype=torch.long)   # [label]\n",
        "        return img, label\n",
        "\n",
        "# # Define transformations (resize and convert to tensor)\n",
        "# transform = transforms.Compose([\n",
        "#     transforms.Resize((28, 28)),\n",
        "#     transforms.ToTensor(),\n",
        "#     transforms.Lambda(lambda x: x / 255.0)\n",
        "# ])\n",
        "\n",
        "# # Create the MNISTDataset instance with the custom transformation\n",
        "# custom_transform = CustomTransform()\n",
        "# train_dataset = MNISTDataset(root=train_data_path, transform=custom_transform)\n",
        "# test_dataset = MNISTDataset(root=test_data_path, transform=custom_transform)"
      ]
    },
    {
      "cell_type": "markdown",
      "metadata": {
        "id": "EQkt6oqfi9Wj"
      },
      "source": [
        "## Custom Dataloader"
      ]
    },
    {
      "cell_type": "code",
      "execution_count": 90,
      "metadata": {
        "id": "ctaEtyB-8U6z"
      },
      "outputs": [],
      "source": [
        "class CustomDataLoader:\n",
        "    def __init__(self, dataset, batch_size, shuffle=True):\n",
        "        self.dataset = dataset\n",
        "        self.batch_size = batch_size\n",
        "        self.shuffle = shuffle\n",
        "        self.current_idx = 0\n",
        "\n",
        "        if shuffle:\n",
        "            self.shuffle_dataset()\n",
        "\n",
        "    def __len__(self):\n",
        "        return len(self.dataset) // self.batch_size\n",
        "\n",
        "    def __iter__(self):\n",
        "        self.idx_list = list(range(len(self.dataset)))\n",
        "        self.batch_start_idx = 0\n",
        "        return self\n",
        "\n",
        "    def __next__(self):\n",
        "        if self.batch_start_idx >= len(self.idx_list):\n",
        "            raise StopIteration\n",
        "\n",
        "        batch_end_index = min(self.batch_start_idx + self.batch_size, len(self.dataset))\n",
        "        batch_indices = self.idx_list[self.batch_start_idx:batch_end_index]\n",
        "\n",
        "        batch = [self.dataset[i] for i in batch_indices]\n",
        "\n",
        "        # Transpose the list of tuples into a tuple of lists\n",
        "        batch = list(zip(*batch))\n",
        "\n",
        "        # Convert the data and labels to tensors\n",
        "        data_tensor = torch.stack([torch.Tensor(item) for item in batch[0]])\n",
        "        label_tensor = torch.stack([torch.Tensor(item) for item in batch[1]])\n",
        "\n",
        "        # self.current_idx += self.batch_size\n",
        "        self.batch_start_idx = batch_end_index\n",
        "\n",
        "        return data_tensor, label_tensor\n",
        "\n",
        "    def shuffle_dataset(self):\n",
        "        indices = torch.randperm(len(self.dataset))\n",
        "        self.dataset = [self.dataset[i] for i in indices]\n",
        "        self.current_idx = 0\n",
        "\n",
        "# custom_transform = CustomTransform()\n",
        "# # Create instances of the custom dataset for training and testing\n",
        "# train_dataset = MNISTDataset(root=train_data_path, transform=custom_transform)\n",
        "# test_dataset = MNISTDataset(root=test_data_path, transform=custom_transform)\n",
        "\n",
        "# # Create custom data loaders for training and testing\n",
        "# train_dataloader = CustomDataLoader(dataset=train_dataset, batch_size=128, shuffle=False)\n",
        "# test_dataloader = CustomDataLoader(dataset=test_dataset, batch_size=64, shuffle=False)\n",
        "\n",
        "# # Iterate through the custom data loader\n",
        "# for data, labels in train_dataloader:\n",
        "#     # print(\"Data shape:\", data.shape)\n",
        "#     # print(\"Data shape:\", data[0])\n",
        "#     print(\"Labels shape:\", labels.shape)\n",
        "#     break"
      ]
    },
    {
      "cell_type": "markdown",
      "metadata": {
        "id": "1CavNHpnjJft"
      },
      "source": [
        "### sanity check"
      ]
    },
    {
      "cell_type": "code",
      "execution_count": 91,
      "metadata": {
        "id": "EgSg4_r5hRbs"
      },
      "outputs": [],
      "source": [
        "# Set the paths for training and testing data\n",
        "train_data_path = r\"/content/MNIST_DATASET/MNIST_DATASET/trainingSet/trainingSet\"\n",
        "test_data_path = r\"/content/MNIST_DATASET/MNIST_DATASET/testSet\" #/testSet\"\n",
        "\n",
        "# Create the MNISTDataset instance with the custom transformation\n",
        "custom_transform = CustomTransform()\n",
        "train_dataset = MNISTDataset(root=train_data_path, transform=custom_transform)\n",
        "test_dataset = MNISTDataset(root=test_data_path, transform=custom_transform)\n",
        "\n",
        "# Create custom data loaders for training and testing\n",
        "train_dataloader = CustomDataLoader(dataset=train_dataset, batch_size=128, shuffle=False)\n",
        "test_dataloader = CustomDataLoader(dataset=test_dataset, batch_size=128, shuffle=False)\n",
        "\n",
        "# # Iterate through the custom data loader\n",
        "# for data, labels in train_dataloader:\n",
        "#     # print(\"Data shape:\", labels[0],data[0])\n",
        "#     print(\"Data shape:\", data.shape)\n",
        "#     print(\"Labels shape:\", labels.shape)\n",
        "#     break"
      ]
    },
    {
      "cell_type": "code",
      "execution_count": 21,
      "metadata": {
        "id": "Pnw1oGwRrujM"
      },
      "outputs": [],
      "source": [
        "# # Create the MNISTDataset instance with the custom transformation\n",
        "# custom_transform = CustomTransform()\n",
        "# train_dataset = MNISTDataset(root=train_data_path, transform=custom_transform)\n",
        "# test_dataset = MNISTDataset(root=test_data_path, transform=custom_transform)\n",
        "\n",
        "# # Create custom data loaders for training and testing (your existing code)\n",
        "# train_dataloader_custom = CustomDataLoader(dataset=train_dataset, batch_size=64, shuffle=True)\n",
        "# test_dataloader_custom = CustomDataLoader(dataset=test_dataset, batch_size=64, shuffle=False)\n",
        "\n",
        "# # Now, create PyTorch DataLoader instances using your custom dataset\n",
        "# train_dataloader_torch = DataLoader(dataset=train_dataset, batch_size=64, shuffle=True)\n",
        "# test_dataloader_torch = DataLoader(dataset=test_dataset, batch_size=64, shuffle=False)\n",
        "\n",
        "# iter = 0\n",
        "# # Example usage of both data loaders\n",
        "# for data, labels in train_dataloader_torch:\n",
        "#     print(\"PyTorch DataLoader - Data Shape:\", data.shape, \"Labels Shape:\", labels.shape)\n",
        "\n",
        "# for data, labels in train_dataloader_custom:\n",
        "#     print(\"Custom DataLoader - Data Shape:\", data.shape, \"Labels Shape:\", labels.shape)"
      ]
    },
    {
      "cell_type": "markdown",
      "metadata": {
        "id": "0NaFK64MXQ9j"
      },
      "source": [
        "## 1."
      ]
    },
    {
      "cell_type": "code",
      "execution_count": null,
      "metadata": {
        "id": "VLZ2RZ2EcJ9R"
      },
      "outputs": [],
      "source": [
        "# Function to measure loading time using your custom data loader\n",
        "def measure_dataloader_loading_time(dataloader, batch_size,epochs = 1,full_flag = False):\n",
        "    if(full_flag):\n",
        "        for _ in range(epochs):\n",
        "            start_time = time.time()\n",
        "            for _ in dataloader:\n",
        "                pass\n",
        "            end_time = time.time()\n",
        "            loading_time = end_time - start_time\n",
        "            return loading_time\n",
        "\n",
        "    else:\n",
        "      for _ in range(epochs):\n",
        "          start_time = time.time()\n",
        "          for _ in dataloader:\n",
        "              # print(batch_size)\n",
        "              break\n",
        "          end_time = time.time()\n",
        "          loading_time = end_time - start_time\n",
        "          return loading_time\n",
        "\n",
        "# Batch sizes to compare\n",
        "batch_sizes = [128, 256, 512, 1024]\n",
        "\n",
        "# Initialize lists to store loading times\n",
        "custom_loading_times = []\n",
        "pytorch_loading_times = []\n",
        "\n",
        "# Create the MNISTDataset instance with the custom transformation\n",
        "custom_transform = CustomTransform()\n",
        "train_dataset = MNISTDataset(root=train_data_path, transform=custom_transform)\n",
        "test_dataset = MNISTDataset(root=test_data_path, transform=custom_transform)\n",
        "\n",
        "epochs = 1\n",
        "measure_time_for_full_dataloading = False\n",
        "# Measure loading times for each batch size\n",
        "for batch_size in batch_sizes:\n",
        "    print(f\"Currently computing loading times for {batch_size}\")\n",
        "    # Create your custom data loader\n",
        "    custom_dataloader = CustomDataLoader(dataset=train_dataset, batch_size=batch_size, shuffle=True)\n",
        "\n",
        "    # Create PyTorch's DataLoader\n",
        "    pytorch_dataloader = torch.utils.data.DataLoader(dataset=train_dataset, batch_size=batch_size, shuffle=True)\n",
        "\n",
        "    # Measure loading times\n",
        "    custom_loading_time = measure_dataloader_loading_time(custom_dataloader, batch_size,epochs=epochs,full_flag=measure_time_for_full_dataloading)\n",
        "    pytorch_loading_time = measure_dataloader_loading_time(pytorch_dataloader,batch_size,epochs=epochs,full_flag=measure_time_for_full_dataloading)\n",
        "\n",
        "    custom_loading_times.append(custom_loading_time)\n",
        "    pytorch_loading_times.append(pytorch_loading_time)"
      ]
    },
    {
      "cell_type": "code",
      "execution_count": 23,
      "metadata": {
        "colab": {
          "base_uri": "https://localhost:8080/"
        },
        "id": "8JWvBaWhnvrr",
        "outputId": "2d9842a4-2749-4691-9b42-da4ce52c213f"
      },
      "outputs": [
        {
          "output_type": "stream",
          "name": "stdout",
          "text": [
            "[0.019575834274291992, 0.007093906402587891, 0.0057218074798583984, 0.015825748443603516]\n",
            "[0.05151939392089844, 0.08754467964172363, 0.11758732795715332, 1.1712257862091064]\n"
          ]
        }
      ],
      "source": [
        "print(custom_loading_times)\n",
        "print(pytorch_loading_times)"
      ]
    },
    {
      "cell_type": "code",
      "execution_count": 24,
      "metadata": {
        "colab": {
          "base_uri": "https://localhost:8080/",
          "height": 472
        },
        "id": "BbJsv7DSoDnv",
        "outputId": "280f4ed7-a0dd-4d73-cea7-fee0cbfc00e2"
      },
      "outputs": [
        {
          "output_type": "display_data",
          "data": {
            "text/plain": [
              "<Figure size 640x480 with 1 Axes>"
            ],
            "image/png": "[encoded data removed]"
          },
          "metadata": {}
        }
      ],
      "source": [
        "# Plotting\n",
        "plt.plot(batch_sizes, custom_loading_times,marker='o', label='Custom DataLoader')\n",
        "plt.plot(batch_sizes, pytorch_loading_times,marker='+', label='PyTorch DataLoader')\n",
        "plt.xlabel('Batch Size')\n",
        "plt.ylabel('Loading Time (seconds)')\n",
        "plt.title('Loading Time Comparison')\n",
        "plt.legend()\n",
        "plt.show()"
      ]
    },
    {
      "cell_type": "markdown",
      "metadata": {
        "id": "b15C3wPEwDR-"
      },
      "source": [
        "## 2\n",
        "2.0 Implement a Feed-Forward neural network architecture from scratch featuring four hidden layers, each comprising minimum 32 neurons (excluding input and output layers).\n",
        "\n",
        "2.1 Train the model using the most effective data loader identified in the previous question with ReLU activation function.\n",
        "\n",
        "2.2 Employ the Cross-Entropy loss function and opt for the Stochastic Gradient Descent (SGD) optimizer with default parameters, setting the learning rate to 0.0003.\n",
        "\n",
        "2.3 Plot graphs depicting the loss and accuracy during training, validation and testing for a total of 60 epochs.\n"
      ]
    },
    {
      "cell_type": "markdown",
      "metadata": {
        "id": "7qjijo_KoFXY"
      },
      "source": [
        "### 2.0) Feed-Forward neural network architecture\n",
        "##### 4.1) Sigmoid activation function\n",
        "##### -1) bonus variable hidden layers (neurons and #layers)\n",
        "\n"
      ]
    },
    {
      "cell_type": "code",
      "execution_count": 225,
      "metadata": {
        "id": "dPlqVGcAzWZL",
        "outputId": "8724524e-a7b2-4889-b59a-f7a192bf698d",
        "colab": {
          "base_uri": "https://localhost:8080/"
        }
      },
      "outputs": [
        {
          "output_type": "stream",
          "name": "stdout",
          "text": [
            "Feed-Forward neural network intitialed with 6 layers with input layers having 784 neurons, 5 hidden layers having neurons [32, 32, 32, 32, 32] and output layer having 10 neurons :\n",
            ">> [Activation Type: ReLU]\n",
            ">> [Weight Initialization: He]\n",
            ">> [Zeroes Bias Initialization: True]\n",
            ">> [Batch Normalization Flag: False]\n",
            ">> [BatchNormalization_then_Activation_function: False]\n",
            "\n",
            "Arguments that FFNN class takes in for neural network initialization :\n",
            ">> activation_type :: ['ReLU', 'Sigmoid']\t\t\t\t\\\\ ReLU [default] or Sigmoid //; \n",
            ">> weight_initialization = ['He', 'Xavier', 'LeCun', N/A] \t\t\\\\ He (He (normal) initialization), He (Xavier/Glorot initialization), He (LeCun Initialization), random intialization [default]; // \n",
            ">> zeroes_bias_initialization = True \t\t\t[default] \t\\\\ All bias initialized by zeroes //; \n",
            ">> batch_normalization_flag = False \t\t\t[default] \t\\\\ Flag for batch-normalization //; \n",
            ">> BatchNormalization_then_Activation_function = False\t[default]\t\\\\ If True then BatchNormalization(ReLU(x_i))) i.e. Activation function followed batch normalization //; \n",
            "\n",
            "Layers Information:\n",
            ">> Input Layer Neurons  : [784]\t\t\t\t[default]\n",
            ">> Output Layer Neurons : [10]\t\t\t\t[default]\n",
            ">> 5 Hidden Layers \t: [32, 32, 32, 32, 32]\n",
            "\n"
          ]
        }
      ],
      "source": [
        "# Define the custom neural network using torch\n",
        "class FFNN(nn.Module):\n",
        "    def __init__(self,\n",
        "             input_layer_neurons: int = 28*28,\n",
        "             hidden_layers: list = [32, 32, 32, 32,32],\n",
        "             output_layer_neurons: int = 10,\n",
        "             activation_type: str = \"ReLU\",\n",
        "             weight_initialization: str = \"He\",\n",
        "             zeroes_bias_initialization: bool = True,\n",
        "             batch_normalization_flag: bool = False,\n",
        "             BatchNormalization_then_Activation_function: bool = False):\n",
        "        super(FFNN, self).__init__()\n",
        "\n",
        "        self.input_layer_neurons = [input_layer_neurons]\n",
        "        self.hidden_layers = hidden_layers\n",
        "        self.output_layer_neurons = [output_layer_neurons]\n",
        "        layer_sizes = self.input_layer_neurons + self.hidden_layers + self.output_layer_neurons #[28 * 28, 32, 32, 32, 32, 10]\n",
        "        hl_short = (self.hidden_layers[:2]+ [\"\\\"\"] + self.hidden_layers[-2:]) if len(self.hidden_layers) >= 6 else (self.hidden_layers)\n",
        "        self.layers = nn.ModuleList()\n",
        "        self.activation_type = activation_type\n",
        "        self.weight_initialization = weight_initialization\n",
        "        self.batch_normalization_flag = batch_normalization_flag\n",
        "        self.zeroes_bias_initialization = zeroes_bias_initialization\n",
        "        self.BatchNormalization_then_Activation_function = BatchNormalization_then_Activation_function\n",
        "\n",
        "        print(f\"Feed-Forward neural network intitialed with {len(layer_sizes)-1} layers with input layers having {self.input_layer_neurons[0]} neurons, {len(self.hidden_layers)} hidden layers having neurons {hl_short} and output layer having {self.output_layer_neurons[0]} neurons :\\n\"\n",
        "              f\">> [Activation Type: {self.activation_type}]\\n\"\n",
        "              f\">> [Weight Initialization: {self.weight_initialization}]\\n\"\n",
        "              f\">> [Zeroes Bias Initialization: {self.zeroes_bias_initialization}]\\n\"\n",
        "              f\">> [Batch Normalization Flag: {self.batch_normalization_flag}]\\n\"\n",
        "              f\">> [BatchNormalization_then_Activation_function: {self.BatchNormalization_then_Activation_function}]\\n\")\n",
        "\n",
        "        self.relu = nn.ReLU()\n",
        "        self.sigmoid = nn.Sigmoid()\n",
        "        if activation_type == \"ReLU\":\n",
        "            self.activation_function = self.relu\n",
        "        elif activation_type == \"Sigmoid\":\n",
        "            self.activation_function = self.sigmoid\n",
        "        else:\n",
        "            print(\"Activation functions supported are only \\\"ReLU\\\", \\\"Sigmoid\\\" \\n Intialized with ReLU funtion as activation function \")\n",
        "            self.activation_function = self.relu\n",
        "\n",
        "        # nothing :: {epoch:validationAccuracy} == [{60:18%},{120:17%}]\n",
        "        for i in range(1, len(layer_sizes)):\n",
        "            linear_layer = nn.Linear(layer_sizes[i - 1], layer_sizes[i])\n",
        "            self.layers.append(linear_layer)\n",
        "            self.layers.append(self.activation_function)\n",
        "\n",
        "            if batch_normalization_flag and i < len(layer_sizes) - 1:\n",
        "                self.layers.append(nn.BatchNorm1d(layer_sizes[i]))\n",
        "            if self.BatchNormalization_then_Activation_function:\n",
        "                activation_layer = self.layers.pop(-2)\n",
        "                self.layers.append(self.activation_function)\n",
        "\n",
        "            # Weight and bias initialization\n",
        "            if self.weight_initialization == \"He\":                              # He (normal) initialization :: [{60:85%},{120:90%}] ; He+zeros :: [{60:81%}]\n",
        "                nn.init.kaiming_normal_(linear_layer.weight, nonlinearity='relu')\n",
        "            elif self.weight_initialization == \"Xavier\":                        # Xavier/Glorot initialization :: [{60:65%},{120:83%}];\n",
        "                nn.init.xavier_uniform_(linear_layer.weight)\n",
        "            elif self.weight_initialization == \"LeCun\":                         # LeCun Initialization for linear layers :: [{60:56%},{120:80%},{180:88%}];\n",
        "                nn.init.normal_(linear_layer.weight, mean=0, std=1 / math.sqrt(linear_layer.weight.size(1)))\n",
        "            else:                                                               # training without any initialization (getting trained (verified by higher learning rate)) : not getting trained\n",
        "              pass\n",
        "\n",
        "            if zeroes_bias_initialization:                                      # only zero will not trainingg at all [{60:10%}]\n",
        "                nn.init.zeros_(linear_layer.bias)\n",
        "\n",
        "    def forward(self,x):\n",
        "        x = x.view(-1, 28 * 28)  # Flatten the input\n",
        "        for layer in self.layers:\n",
        "            x = layer(x)\n",
        "        return x\n",
        "\n",
        "    def args_(self):\n",
        "        hl_short = (self.hidden_layers[:2]+ [\"\\\"\"] + self.hidden_layers[-2:]) if len(self.hidden_layers) >= 6 else (self.hidden_layers)\n",
        "        print(f\"Arguments that FFNN class takes in for neural network initialization :\\n\"\n",
        "              f\">> activation_type :: ['ReLU', 'Sigmoid']\\t\\t\\t\\t\\\\\\\\ {self.activation_type} [default] or Sigmoid //; \\n\"\n",
        "              f\">> weight_initialization = ['He', 'Xavier', 'LeCun', N/A] \\t\\t\\\\\\\\ {self.weight_initialization} (He (normal) initialization), {self.weight_initialization} (Xavier/Glorot initialization), {self.weight_initialization} (LeCun Initialization), random intialization [default]; // \\n\"\n",
        "              f\">> zeroes_bias_initialization = {self.zeroes_bias_initialization} \\t\\t\\t[default] \\t\\\\\\\\ All bias initialized by zeroes //; \\n\"\n",
        "              f\">> batch_normalization_flag = {self.batch_normalization_flag} \\t\\t\\t[default] \\t\\\\\\\\ Flag for batch-normalization //; \\n\"\n",
        "              f\">> BatchNormalization_then_Activation_function = {self.BatchNormalization_then_Activation_function}\\t[default]\\t\\\\\\\\ If True then BatchNormalization(ReLU(x_i))) i.e. Activation function followed batch normalization //; \\n\"\n",
        "              f\"\\nLayers Information:\\n\"\n",
        "              f\">> Input Layer Neurons  : {self.input_layer_neurons}\\t\\t\\t\\t[default]\\n\"\n",
        "              f\">> Output Layer Neurons : {self.output_layer_neurons}\\t\\t\\t\\t[default]\\n\"\n",
        "              f\">> {len(self.hidden_layers)} Hidden Layers \\t: {hl_short}\\n\"\n",
        "              )\n",
        "ffnn = FFNN()\n",
        "ffnn.args_()"
      ]
    },
    {
      "cell_type": "markdown",
      "source": [
        "#### About Intialization"
      ],
      "metadata": {
        "id": "XIB5gl9wtKqx"
      }
    },
    {
      "cell_type": "markdown",
      "source": [
        "      \n",
        "He (normal) initialization :\n",
        "\n",
        "    weight initialization technique designed to address the vanishing/exploding gradient problem, especially in deep neural networks with rectified linear unit (ReLU) activation functions.\n",
        "    it keeps the variance of activations roughly the same across different layers.\n",
        "\n",
        "    For a layer with n input units, He initialization sets the weights from a Gaussian distribution with mean 0 and variance 2/n (or 1/n for the fan_in variant).\n",
        "    Mathematically, if W is the weight matrix for a layer, He initialization is applied as: W ~ N(0, 2/n) ; n : number of input units in the layer.\n",
        "\n",
        "    nn.init.kaiming_normal_(layer.weight, nonlinearity='relu')"
      ],
      "metadata": {
        "id": "1xgRXmTN61eH"
      }
    },
    {
      "cell_type": "code",
      "execution_count": 217,
      "metadata": {
        "colab": {
          "base_uri": "https://localhost:8080/"
        },
        "id": "qyuhMUZDzmN6",
        "outputId": "86ea6bca-ddb3-4a3f-e173-ad5cc9a554e8"
      },
      "outputs": [
        {
          "output_type": "stream",
          "name": "stdout",
          "text": [
            "33600, 4200, 4200\n"
          ]
        }
      ],
      "source": [
        "# Set the paths for training data\n",
        "united_data_path = r\"/content/MNIST_DATASET/MNIST_DATASET/trainingSet/trainingSet\"\n",
        "\n",
        "# Create the MNISTDataset instance with the custom transformation\n",
        "custom_transform = CustomTransform()\n",
        "united_dataset = MNISTDataset(root=united_data_path, transform=custom_transform)\n",
        "\n",
        "# Split the dataset into training, validation, and test sets\n",
        "total_size = len(united_dataset)\n",
        "train_size = int(0.8 * total_size)\n",
        "val_size = int(0.5 * (total_size - train_size))\n",
        "test_size = total_size - train_size - val_size\n",
        "\n",
        "train_dataset, val_dataset, test_dataset = random_split(united_dataset, [train_size, val_size, test_size])\n",
        "print(f\"{len(train_dataset)}, {len(val_dataset)}, {len(test_dataset)}\")\n",
        "\n",
        "# Create custom data loaders for training, validation, and testing\n",
        "train_dataloader = CustomDataLoader(dataset=train_dataset, batch_size=128, shuffle=True)\n",
        "val_dataloader = CustomDataLoader(dataset=val_dataset, batch_size=128, shuffle=False)\n",
        "test_dataloader = CustomDataLoader(dataset=test_dataset, batch_size=128, shuffle=False)"
      ]
    },
    {
      "cell_type": "markdown",
      "source": [
        "#### **Accuracy** matrix\n",
        "Sigmoid\n",
        "    # batchNormalization(sigmoid()) {60:87%} (quick training)\n",
        "    # sigmoid(batchNormalization()) {60:86%}\n",
        "\n",
        "    # Sigmoid :: Without batch normalization NO training on 0.0003 learning rate, only able to handle vanishing gradients when lr = 3 (much higher)\n",
        "\n",
        "    # batchNormalization(sigmoid()) {60:87%} (quick training)\n",
        "    # sigmoid(batchNormalization()) {60:86%}\n",
        "\n",
        "ReLU\n",
        "    # training without any initialization (getting trained (verified by higher learning rate)) : not getting trained\n",
        "    # nothing :: {epoch:validationAccuracy} == [{60:18%},{120:17%}]\n",
        "\n",
        "    # BatchNormalization(ReLU()) + He {60:87%} (very quicker training)\n",
        "    # ReLu(BatchNormalization()) + He {60:86%}\n",
        "\n",
        "    # He (normal) initialization :: [{60:85%},{120:90%}] ; He+zeros :: [{60:81%}]\n",
        "    # Xavier/Glorot initialization :: [{60:65%},{120:83%}];\n",
        "    # LeCun Initialization for linear layers :: [{60:56%},{120:80%},{180:88%}];\n",
        "    # only zero will not trainingg at all [{60:10%}]"
      ],
      "metadata": {
        "id": "M1CEpGSzFxT5"
      }
    },
    {
      "cell_type": "markdown",
      "source": [
        "### Training model"
      ],
      "metadata": {
        "id": "hcD1OPzShJ7Y"
      }
    },
    {
      "cell_type": "code",
      "execution_count": 227,
      "metadata": {
        "colab": {
          "base_uri": "https://localhost:8080/",
          "height": 914
        },
        "id": "PpgjCXHQwD1c",
        "outputId": "47165c46-1b5d-4c7b-8b84-44beb08f8e85"
      },
      "outputs": [
        {
          "output_type": "stream",
          "name": "stdout",
          "text": [
            "Feed-Forward neural network intitialed with 5 layers with input layers having 784 neurons, 4 hidden layers having neurons [4, 4, 4, 4] and output layer having 10 neurons :\n",
            ">> [Activation Type: ReLU]\n",
            ">> [Weight Initialization: Xavier]\n",
            ">> [Zeroes Bias Initialization: False]\n",
            ">> [Batch Normalization Flag: True]\n",
            ">> [BatchNormalization_then_Activation_function: False]\n",
            "\n",
            "Arguments that FFNN class takes in for neural network initialization :\n",
            ">> activation_type :: ['ReLU', 'Sigmoid']\t\t\t\t\\\\ ReLU [default] or Sigmoid //; \n",
            ">> weight_initialization = ['He', 'Xavier', 'LeCun', N/A] \t\t\\\\ Xavier (He (normal) initialization), Xavier (Xavier/Glorot initialization), Xavier (LeCun Initialization), random intialization [default]; // \n",
            ">> zeroes_bias_initialization = False \t\t\t[default] \t\\\\ All bias initialized by zeroes //; \n",
            ">> batch_normalization_flag = True \t\t\t[default] \t\\\\ Flag for batch-normalization //; \n",
            ">> BatchNormalization_then_Activation_function = False\t[default]\t\\\\ If True then BatchNormalization(ReLU(x_i))) i.e. Activation function followed batch normalization //; \n",
            "\n",
            "Layers Information:\n",
            ">> Input Layer Neurons  : [784]\t\t\t\t[default]\n",
            ">> Output Layer Neurons : [10]\t\t\t\t[default]\n",
            ">> 4 Hidden Layers \t: [4, 4, 4, 4]\n",
            "\n",
            "Training model for 60 epochs\n",
            ">> [learning rate = 0.0003]\n",
            "\n",
            "Epoch [01/60],  Train Loss: 2.3633, Train Accuracy: 12.24%, Val Loss: 2.3464, Val Accuracy: 13.86%, Test Loss: 2.3534, Test Accuracy: 13.62%\n",
            "Epoch [02/60],  Train Loss: 2.2709, Train Accuracy: 14.61%, Val Loss: 2.2989, Val Accuracy: 15.50%, Test Loss: 2.3062, Test Accuracy: 15.69%\n",
            "Epoch [03/60],  Train Loss: 2.2326, Train Accuracy: 16.20%, Val Loss: 2.2679, Val Accuracy: 17.40%, Test Loss: 2.2794, Test Accuracy: 17.00%\n",
            "Epoch [04/60],  Train Loss: 2.2019, Train Accuracy: 17.97%, Val Loss: 2.2393, Val Accuracy: 20.10%, Test Loss: 2.2532, Test Accuracy: 19.14%\n",
            "Epoch [05/60],  Train Loss: 2.1771, Train Accuracy: 19.54%, Val Loss: 2.2176, Val Accuracy: 21.60%, Test Loss: 2.2341, Test Accuracy: 20.88%\n",
            "Epoch [06/60],  Train Loss: 2.1555, Train Accuracy: 20.85%, Val Loss: 2.2006, Val Accuracy: 22.74%, Test Loss: 2.2143, Test Accuracy: 21.69%\n",
            "Epoch [07/60],  "
          ]
        },
        {
          "output_type": "error",
          "ename": "KeyboardInterrupt",
          "evalue": "",
          "traceback": [
            "\u001b[0;31m---------------------------------------------------------------------------\u001b[0m",
            "\u001b[0;31mKeyboardInterrupt\u001b[0m                         Traceback (most recent call last)",
            "\u001b[0;32m<ipython-input-227-6d24f5f1b412>\u001b[0m in \u001b[0;36m<cell line: 42>\u001b[0;34m()\u001b[0m\n\u001b[1;32m     86\u001b[0m \u001b[0;34m\u001b[0m\u001b[0m\n\u001b[1;32m     87\u001b[0m     \u001b[0;32mwith\u001b[0m \u001b[0mtorch\u001b[0m\u001b[0;34m.\u001b[0m\u001b[0mno_grad\u001b[0m\u001b[0;34m(\u001b[0m\u001b[0;34m)\u001b[0m\u001b[0;34m:\u001b[0m\u001b[0;34m\u001b[0m\u001b[0;34m\u001b[0m\u001b[0m\n\u001b[0;32m---> 88\u001b[0;31m         \u001b[0;32mfor\u001b[0m \u001b[0mdata\u001b[0m\u001b[0;34m,\u001b[0m \u001b[0mlabels\u001b[0m \u001b[0;32min\u001b[0m \u001b[0mtest_dataloader\u001b[0m\u001b[0;34m:\u001b[0m\u001b[0;34m\u001b[0m\u001b[0;34m\u001b[0m\u001b[0m\n\u001b[0m\u001b[1;32m     89\u001b[0m             \u001b[0moutputs\u001b[0m \u001b[0;34m=\u001b[0m \u001b[0mmodel\u001b[0m\u001b[0;34m(\u001b[0m\u001b[0mdata\u001b[0m\u001b[0;34m)\u001b[0m\u001b[0;34m\u001b[0m\u001b[0;34m\u001b[0m\u001b[0m\n\u001b[1;32m     90\u001b[0m             \u001b[0mloss\u001b[0m \u001b[0;34m=\u001b[0m \u001b[0mcriterion\u001b[0m\u001b[0;34m(\u001b[0m\u001b[0moutputs\u001b[0m\u001b[0;34m,\u001b[0m \u001b[0mlabels\u001b[0m\u001b[0;34m.\u001b[0m\u001b[0msqueeze\u001b[0m\u001b[0;34m(\u001b[0m\u001b[0;34m)\u001b[0m\u001b[0;34m)\u001b[0m\u001b[0;34m\u001b[0m\u001b[0;34m\u001b[0m\u001b[0m\n",
            "\u001b[0;32m<ipython-input-90-ac40c1253fc2>\u001b[0m in \u001b[0;36m__next__\u001b[0;34m(self)\u001b[0m\n\u001b[1;32m     24\u001b[0m         \u001b[0mbatch_indices\u001b[0m \u001b[0;34m=\u001b[0m \u001b[0mself\u001b[0m\u001b[0;34m.\u001b[0m\u001b[0midx_list\u001b[0m\u001b[0;34m[\u001b[0m\u001b[0mself\u001b[0m\u001b[0;34m.\u001b[0m\u001b[0mbatch_start_idx\u001b[0m\u001b[0;34m:\u001b[0m\u001b[0mbatch_end_index\u001b[0m\u001b[0;34m]\u001b[0m\u001b[0;34m\u001b[0m\u001b[0;34m\u001b[0m\u001b[0m\n\u001b[1;32m     25\u001b[0m \u001b[0;34m\u001b[0m\u001b[0m\n\u001b[0;32m---> 26\u001b[0;31m         \u001b[0mbatch\u001b[0m \u001b[0;34m=\u001b[0m \u001b[0;34m[\u001b[0m\u001b[0mself\u001b[0m\u001b[0;34m.\u001b[0m\u001b[0mdataset\u001b[0m\u001b[0;34m[\u001b[0m\u001b[0mi\u001b[0m\u001b[0;34m]\u001b[0m \u001b[0;32mfor\u001b[0m \u001b[0mi\u001b[0m \u001b[0;32min\u001b[0m \u001b[0mbatch_indices\u001b[0m\u001b[0;34m]\u001b[0m\u001b[0;34m\u001b[0m\u001b[0;34m\u001b[0m\u001b[0m\n\u001b[0m\u001b[1;32m     27\u001b[0m \u001b[0;34m\u001b[0m\u001b[0m\n\u001b[1;32m     28\u001b[0m         \u001b[0;31m# Transpose the list of tuples into a tuple of lists\u001b[0m\u001b[0;34m\u001b[0m\u001b[0;34m\u001b[0m\u001b[0m\n",
            "\u001b[0;32m<ipython-input-90-ac40c1253fc2>\u001b[0m in \u001b[0;36m<listcomp>\u001b[0;34m(.0)\u001b[0m\n\u001b[1;32m     24\u001b[0m         \u001b[0mbatch_indices\u001b[0m \u001b[0;34m=\u001b[0m \u001b[0mself\u001b[0m\u001b[0;34m.\u001b[0m\u001b[0midx_list\u001b[0m\u001b[0;34m[\u001b[0m\u001b[0mself\u001b[0m\u001b[0;34m.\u001b[0m\u001b[0mbatch_start_idx\u001b[0m\u001b[0;34m:\u001b[0m\u001b[0mbatch_end_index\u001b[0m\u001b[0;34m]\u001b[0m\u001b[0;34m\u001b[0m\u001b[0;34m\u001b[0m\u001b[0m\n\u001b[1;32m     25\u001b[0m \u001b[0;34m\u001b[0m\u001b[0m\n\u001b[0;32m---> 26\u001b[0;31m         \u001b[0mbatch\u001b[0m \u001b[0;34m=\u001b[0m \u001b[0;34m[\u001b[0m\u001b[0mself\u001b[0m\u001b[0;34m.\u001b[0m\u001b[0mdataset\u001b[0m\u001b[0;34m[\u001b[0m\u001b[0mi\u001b[0m\u001b[0;34m]\u001b[0m \u001b[0;32mfor\u001b[0m \u001b[0mi\u001b[0m \u001b[0;32min\u001b[0m \u001b[0mbatch_indices\u001b[0m\u001b[0;34m]\u001b[0m\u001b[0;34m\u001b[0m\u001b[0;34m\u001b[0m\u001b[0m\n\u001b[0m\u001b[1;32m     27\u001b[0m \u001b[0;34m\u001b[0m\u001b[0m\n\u001b[1;32m     28\u001b[0m         \u001b[0;31m# Transpose the list of tuples into a tuple of lists\u001b[0m\u001b[0;34m\u001b[0m\u001b[0;34m\u001b[0m\u001b[0m\n",
            "\u001b[0;32m/usr/local/lib/python3.10/dist-packages/torch/utils/data/dataset.py\u001b[0m in \u001b[0;36m__getitem__\u001b[0;34m(self, idx)\u001b[0m\n\u001b[1;32m    354\u001b[0m         \u001b[0;32mif\u001b[0m \u001b[0misinstance\u001b[0m\u001b[0;34m(\u001b[0m\u001b[0midx\u001b[0m\u001b[0;34m,\u001b[0m \u001b[0mlist\u001b[0m\u001b[0;34m)\u001b[0m\u001b[0;34m:\u001b[0m\u001b[0;34m\u001b[0m\u001b[0;34m\u001b[0m\u001b[0m\n\u001b[1;32m    355\u001b[0m             \u001b[0;32mreturn\u001b[0m \u001b[0mself\u001b[0m\u001b[0;34m.\u001b[0m\u001b[0mdataset\u001b[0m\u001b[0;34m[\u001b[0m\u001b[0;34m[\u001b[0m\u001b[0mself\u001b[0m\u001b[0;34m.\u001b[0m\u001b[0mindices\u001b[0m\u001b[0;34m[\u001b[0m\u001b[0mi\u001b[0m\u001b[0;34m]\u001b[0m \u001b[0;32mfor\u001b[0m \u001b[0mi\u001b[0m \u001b[0;32min\u001b[0m \u001b[0midx\u001b[0m\u001b[0;34m]\u001b[0m\u001b[0;34m]\u001b[0m\u001b[0;34m\u001b[0m\u001b[0;34m\u001b[0m\u001b[0m\n\u001b[0;32m--> 356\u001b[0;31m         \u001b[0;32mreturn\u001b[0m \u001b[0mself\u001b[0m\u001b[0;34m.\u001b[0m\u001b[0mdataset\u001b[0m\u001b[0;34m[\u001b[0m\u001b[0mself\u001b[0m\u001b[0;34m.\u001b[0m\u001b[0mindices\u001b[0m\u001b[0;34m[\u001b[0m\u001b[0midx\u001b[0m\u001b[0;34m]\u001b[0m\u001b[0;34m]\u001b[0m\u001b[0;34m\u001b[0m\u001b[0;34m\u001b[0m\u001b[0m\n\u001b[0m\u001b[1;32m    357\u001b[0m \u001b[0;34m\u001b[0m\u001b[0m\n\u001b[1;32m    358\u001b[0m     \u001b[0;32mdef\u001b[0m \u001b[0m__getitems__\u001b[0m\u001b[0;34m(\u001b[0m\u001b[0mself\u001b[0m\u001b[0;34m,\u001b[0m \u001b[0mindices\u001b[0m\u001b[0;34m:\u001b[0m \u001b[0mList\u001b[0m\u001b[0;34m[\u001b[0m\u001b[0mint\u001b[0m\u001b[0;34m]\u001b[0m\u001b[0;34m)\u001b[0m \u001b[0;34m->\u001b[0m \u001b[0mList\u001b[0m\u001b[0;34m[\u001b[0m\u001b[0mT_co\u001b[0m\u001b[0;34m]\u001b[0m\u001b[0;34m:\u001b[0m\u001b[0;34m\u001b[0m\u001b[0;34m\u001b[0m\u001b[0m\n",
            "\u001b[0;32m<ipython-input-89-e18f29d98116>\u001b[0m in \u001b[0;36m__getitem__\u001b[0;34m(self, idx)\u001b[0m\n\u001b[1;32m     23\u001b[0m         \u001b[0mimg\u001b[0m \u001b[0;34m=\u001b[0m \u001b[0mImage\u001b[0m\u001b[0;34m.\u001b[0m\u001b[0mopen\u001b[0m\u001b[0;34m(\u001b[0m\u001b[0mimg_path\u001b[0m\u001b[0;34m)\u001b[0m\u001b[0;34m.\u001b[0m\u001b[0mconvert\u001b[0m\u001b[0;34m(\u001b[0m\u001b[0;34m'L'\u001b[0m\u001b[0;34m)\u001b[0m  \u001b[0;31m# Convert to grayscale\u001b[0m\u001b[0;34m\u001b[0m\u001b[0;34m\u001b[0m\u001b[0m\n\u001b[1;32m     24\u001b[0m         \u001b[0;32mif\u001b[0m \u001b[0mself\u001b[0m\u001b[0;34m.\u001b[0m\u001b[0mtransform\u001b[0m\u001b[0;34m:\u001b[0m\u001b[0;34m\u001b[0m\u001b[0;34m\u001b[0m\u001b[0m\n\u001b[0;32m---> 25\u001b[0;31m             \u001b[0mimg\u001b[0m \u001b[0;34m=\u001b[0m \u001b[0mself\u001b[0m\u001b[0;34m.\u001b[0m\u001b[0mtransform\u001b[0m\u001b[0;34m(\u001b[0m\u001b[0mimg\u001b[0m\u001b[0;34m)\u001b[0m\u001b[0;34m\u001b[0m\u001b[0;34m\u001b[0m\u001b[0m\n\u001b[0m\u001b[1;32m     26\u001b[0m         \u001b[0mlabel\u001b[0m \u001b[0;34m=\u001b[0m \u001b[0mtorch\u001b[0m\u001b[0;34m.\u001b[0m\u001b[0mtensor\u001b[0m\u001b[0;34m(\u001b[0m\u001b[0mlabel\u001b[0m\u001b[0;34m,\u001b[0m \u001b[0mdtype\u001b[0m\u001b[0;34m=\u001b[0m\u001b[0mtorch\u001b[0m\u001b[0;34m.\u001b[0m\u001b[0mlong\u001b[0m\u001b[0;34m)\u001b[0m   \u001b[0;31m# [label]\u001b[0m\u001b[0;34m\u001b[0m\u001b[0;34m\u001b[0m\u001b[0m\n\u001b[1;32m     27\u001b[0m         \u001b[0;32mreturn\u001b[0m \u001b[0mimg\u001b[0m\u001b[0;34m,\u001b[0m \u001b[0mlabel\u001b[0m\u001b[0;34m\u001b[0m\u001b[0;34m\u001b[0m\u001b[0m\n",
            "\u001b[0;32m<ipython-input-88-f420a83acef0>\u001b[0m in \u001b[0;36m__call__\u001b[0;34m(self, img)\u001b[0m\n\u001b[1;32m      7\u001b[0m         \u001b[0;31m# img = img.resize(self.target_size, Image.ANTIALIAS)\u001b[0m\u001b[0;34m\u001b[0m\u001b[0;34m\u001b[0m\u001b[0m\n\u001b[1;32m      8\u001b[0m         \u001b[0;31m# Convert to NumPy array and normalize\u001b[0m\u001b[0;34m\u001b[0m\u001b[0;34m\u001b[0m\u001b[0m\n\u001b[0;32m----> 9\u001b[0;31m         \u001b[0mimg_array\u001b[0m \u001b[0;34m=\u001b[0m \u001b[0mnp\u001b[0m\u001b[0;34m.\u001b[0m\u001b[0marray\u001b[0m\u001b[0;34m(\u001b[0m\u001b[0mimg\u001b[0m\u001b[0;34m,\u001b[0m \u001b[0mdtype\u001b[0m\u001b[0;34m=\u001b[0m\u001b[0mnp\u001b[0m\u001b[0;34m.\u001b[0m\u001b[0mfloat32\u001b[0m\u001b[0;34m)\u001b[0m \u001b[0;34m/\u001b[0m \u001b[0;36m255.0\u001b[0m\u001b[0;34m\u001b[0m\u001b[0;34m\u001b[0m\u001b[0m\n\u001b[0m\u001b[1;32m     10\u001b[0m         \u001b[0;31m# Convert to PyTorch tensor\u001b[0m\u001b[0;34m\u001b[0m\u001b[0;34m\u001b[0m\u001b[0m\n\u001b[1;32m     11\u001b[0m         \u001b[0mimg_tensor\u001b[0m \u001b[0;34m=\u001b[0m \u001b[0mtorch\u001b[0m\u001b[0;34m.\u001b[0m\u001b[0mfrom_numpy\u001b[0m\u001b[0;34m(\u001b[0m\u001b[0mimg_array\u001b[0m\u001b[0;34m)\u001b[0m\u001b[0;34m\u001b[0m\u001b[0;34m\u001b[0m\u001b[0m\n",
            "\u001b[0;32m/usr/local/lib/python3.10/dist-packages/PIL/Image.py\u001b[0m in \u001b[0;36m__array_interface__\u001b[0;34m(self)\u001b[0m\n\u001b[1;32m    689\u001b[0m         \u001b[0;31m# numpy array interface support\u001b[0m\u001b[0;34m\u001b[0m\u001b[0;34m\u001b[0m\u001b[0m\n\u001b[1;32m    690\u001b[0m         \u001b[0mnew\u001b[0m \u001b[0;34m=\u001b[0m \u001b[0;34m{\u001b[0m\u001b[0;34m}\u001b[0m\u001b[0;34m\u001b[0m\u001b[0;34m\u001b[0m\u001b[0m\n\u001b[0;32m--> 691\u001b[0;31m         \u001b[0mshape\u001b[0m\u001b[0;34m,\u001b[0m \u001b[0mtypestr\u001b[0m \u001b[0;34m=\u001b[0m \u001b[0m_conv_type_shape\u001b[0m\u001b[0;34m(\u001b[0m\u001b[0mself\u001b[0m\u001b[0;34m)\u001b[0m\u001b[0;34m\u001b[0m\u001b[0;34m\u001b[0m\u001b[0m\n\u001b[0m\u001b[1;32m    692\u001b[0m         \u001b[0mnew\u001b[0m\u001b[0;34m[\u001b[0m\u001b[0;34m\"shape\"\u001b[0m\u001b[0;34m]\u001b[0m \u001b[0;34m=\u001b[0m \u001b[0mshape\u001b[0m\u001b[0;34m\u001b[0m\u001b[0;34m\u001b[0m\u001b[0m\n\u001b[1;32m    693\u001b[0m         \u001b[0mnew\u001b[0m\u001b[0;34m[\u001b[0m\u001b[0;34m\"typestr\"\u001b[0m\u001b[0;34m]\u001b[0m \u001b[0;34m=\u001b[0m \u001b[0mtypestr\u001b[0m\u001b[0;34m\u001b[0m\u001b[0;34m\u001b[0m\u001b[0m\n",
            "\u001b[0;32m/usr/local/lib/python3.10/dist-packages/PIL/Image.py\u001b[0m in \u001b[0;36m_conv_type_shape\u001b[0;34m(im)\u001b[0m\n\u001b[1;32m    249\u001b[0m     \u001b[0mm\u001b[0m \u001b[0;34m=\u001b[0m \u001b[0mImageMode\u001b[0m\u001b[0;34m.\u001b[0m\u001b[0mgetmode\u001b[0m\u001b[0;34m(\u001b[0m\u001b[0mim\u001b[0m\u001b[0;34m.\u001b[0m\u001b[0mmode\u001b[0m\u001b[0;34m)\u001b[0m\u001b[0;34m\u001b[0m\u001b[0;34m\u001b[0m\u001b[0m\n\u001b[1;32m    250\u001b[0m     \u001b[0mshape\u001b[0m \u001b[0;34m=\u001b[0m \u001b[0;34m(\u001b[0m\u001b[0mim\u001b[0m\u001b[0;34m.\u001b[0m\u001b[0mheight\u001b[0m\u001b[0;34m,\u001b[0m \u001b[0mim\u001b[0m\u001b[0;34m.\u001b[0m\u001b[0mwidth\u001b[0m\u001b[0;34m)\u001b[0m\u001b[0;34m\u001b[0m\u001b[0;34m\u001b[0m\u001b[0m\n\u001b[0;32m--> 251\u001b[0;31m     \u001b[0mextra\u001b[0m \u001b[0;34m=\u001b[0m \u001b[0mlen\u001b[0m\u001b[0;34m(\u001b[0m\u001b[0mm\u001b[0m\u001b[0;34m.\u001b[0m\u001b[0mbands\u001b[0m\u001b[0;34m)\u001b[0m\u001b[0;34m\u001b[0m\u001b[0;34m\u001b[0m\u001b[0m\n\u001b[0m\u001b[1;32m    252\u001b[0m     \u001b[0;32mif\u001b[0m \u001b[0mextra\u001b[0m \u001b[0;34m!=\u001b[0m \u001b[0;36m1\u001b[0m\u001b[0;34m:\u001b[0m\u001b[0;34m\u001b[0m\u001b[0;34m\u001b[0m\u001b[0m\n\u001b[1;32m    253\u001b[0m         \u001b[0mshape\u001b[0m \u001b[0;34m+=\u001b[0m \u001b[0;34m(\u001b[0m\u001b[0mextra\u001b[0m\u001b[0;34m,\u001b[0m\u001b[0;34m)\u001b[0m\u001b[0;34m\u001b[0m\u001b[0;34m\u001b[0m\u001b[0m\n",
            "\u001b[0;31mKeyboardInterrupt\u001b[0m: "
          ]
        }
      ],
      "source": [
        "# Instantiate the neural network, loss function, and optimizer\n",
        "# bonus part with variable number of layers and neurons in each one\n",
        "train_losses, val_losses, test_losses = [], [], []\n",
        "train_accuracies, val_accuracies, test_accuracies = [], [], []\n",
        "\n",
        "num_epochs = 60\n",
        "learning_rate = 0.0003\n",
        "activation_type = \"ReLU\"          # ['ReLU', 'Sigmoid']\n",
        "weight_initialization = \"Xavier\"      # ['He', 'Xavier', 'LeCun', N/A]\n",
        "zeroes_bias_initialization = False\n",
        "batch_normalization_flag = True\n",
        "BatchNormalization_then_Activation_function = False\n",
        "\n",
        "input_layer_neurons = 28*28                                     # number of features (fixed)\n",
        "output_layer_neurons = 10                                       # number of classes  (fixed)\n",
        "number_of_hidden_layers = 4\n",
        "hidden_layers = [4 for _ in range(number_of_hidden_layers)]     # list of number of neurons in hidden layers\n",
        "\n",
        "model = FFNN(\n",
        "    input_layer_neurons = input_layer_neurons, output_layer_neurons = output_layer_neurons,\n",
        "    hidden_layers = hidden_layers,\n",
        "    activation_type=activation_type,\n",
        "    weight_initialization=weight_initialization,\n",
        "    zeroes_bias_initialization=zeroes_bias_initialization,\n",
        "    batch_normalization_flag=batch_normalization_flag,\n",
        "    BatchNormalization_then_Activation_function=BatchNormalization_then_Activation_function\n",
        ")\n",
        "model.args_()\n",
        "\n",
        "print(f\"Training model for {num_epochs} epochs\\n\"\n",
        "      f\">> [learning rate = {learning_rate}]\\n\")\n",
        "\n",
        "\n",
        "# # Load previously trained model\n",
        "# model_path = \"HeInitialization_60_0003.pth\"\n",
        "# loaded_model = torch.load(model_path)\n",
        "# model = loaded_model\n",
        "\n",
        "criterion = nn.CrossEntropyLoss()\n",
        "optimizer = optim.SGD(model.parameters(), lr=learning_rate)\n",
        "\n",
        "for epoch in range(num_epochs):\n",
        "    print(f\"Epoch [{str(epoch + 1).zfill(len(str(num_epochs)))}/{num_epochs}], \", end=\" \")\n",
        "\n",
        "    # Training\n",
        "    model.train()\n",
        "    total_train_loss, correct_train, total_train = 0.0, 0, 0\n",
        "\n",
        "    for data, labels in train_dataloader:\n",
        "        labels = labels.squeeze()\n",
        "        optimizer.zero_grad()\n",
        "        outputs = model(data)\n",
        "        loss = criterion(outputs, labels)\n",
        "        loss.backward()\n",
        "        optimizer.step()\n",
        "\n",
        "        total_train_loss += loss.item()\n",
        "        _, predicted = torch.max(outputs.data, 1)\n",
        "\n",
        "        total_train += labels.size(0)\n",
        "        correct_train += predicted.eq(labels).sum().item()\n",
        "\n",
        "    train_losses.append(total_train_loss / len(train_dataloader))\n",
        "    train_accuracies.append(100 * correct_train / total_train)\n",
        "\n",
        "    # Validation\n",
        "    model.eval()\n",
        "    total_val_loss, correct_val, total_val = 0.0, 0, 0\n",
        "\n",
        "    with torch.no_grad():\n",
        "        for data, labels in val_dataloader:\n",
        "            outputs = model(data)\n",
        "            loss = criterion(outputs, labels.squeeze())\n",
        "\n",
        "            total_val_loss += loss.item()\n",
        "            _, predicted = outputs.max(1)\n",
        "            total_val += labels.size(0)\n",
        "            correct_val += predicted.eq(labels.squeeze()).sum().item()\n",
        "\n",
        "    val_losses.append(total_val_loss / len(val_dataloader))\n",
        "    val_accuracies.append(100 * correct_val / total_val)\n",
        "\n",
        "    # Testing\n",
        "    model.eval()\n",
        "    total_test_loss, correct_test, total_test = 0.0, 0, 0\n",
        "\n",
        "    with torch.no_grad():\n",
        "        for data, labels in test_dataloader:\n",
        "            outputs = model(data)\n",
        "            loss = criterion(outputs, labels.squeeze())\n",
        "\n",
        "            total_test_loss += loss.item()\n",
        "            _, predicted = outputs.max(1)\n",
        "            total_test += labels.size(0)\n",
        "            correct_test += predicted.eq(labels.squeeze()).sum().item()\n",
        "\n",
        "    test_losses.append(total_test_loss / len(test_dataloader))\n",
        "    test_accuracies.append(100 * correct_test / total_test)\n",
        "\n",
        "    # variables_list = [num_epochs, learning_rate, activation_type, weight_initialization,\n",
        "    #                   zeroes_bias_initialization, batch_normalization_flag, BatchNormalization_then_Activation_function,\n",
        "    #                   f\"trn:{train_accuracies[-1]:.2f}%\",f\"val:{val_accuracies[-1]:.2f}\",f\"tst:{test_accuracies[-1]:.2f}%\",\".pth\"]\n",
        "    # variables_string = '_'.join(map(str, variables_list))\n",
        "    # print(\"\\nPath from variables and reults :: \",variables_string)\n",
        "\n",
        "    # torch.save(model, variables_string)\n",
        "\n",
        "    print(\n",
        "        f\"Train Loss: {train_losses[-1]:.4f}, Train Accuracy: {train_accuracies[-1]:.2f}%, \"\n",
        "        f\"Val Loss: {val_losses[-1]:.4f}, Val Accuracy: {val_accuracies[-1]:.2f}%, \"\n",
        "        f\"Test Loss: {test_losses[-1]:.4f}, Test Accuracy: {test_accuracies[-1]:.2f}%\"\n",
        "    )"
      ]
    },
    {
      "cell_type": "markdown",
      "metadata": {
        "id": "DppmFMSSIQ9P"
      },
      "source": [
        "#### Saving model"
      ]
    },
    {
      "cell_type": "code",
      "execution_count": 30,
      "metadata": {
        "id": "ghNS_PqJ_TcL"
      },
      "outputs": [],
      "source": [
        "variables_list = [num_epochs, learning_rate, activation_type, weight_initialization,\n",
        "                  zeroes_bias_initialization, batch_normalization_flag, BatchNormalization_then_Activation_function,\n",
        "                  f\"trn:{train_accuracies[-1]:.2f}%\",f\"val:{val_accuracies[-1]:.2f}\",f\"tst:{test_accuracies[-1]:.2f}%\",\".pth\"]\n",
        "variables_string = '_'.join(map(str, variables_list))\n",
        "print(\"\\nPath from variables and reults :: \",variables_string)\n",
        "\n",
        "torch.save(model, variables_string)"
      ]
    },
    {
      "cell_type": "markdown",
      "metadata": {
        "id": "mxUA5z1hzF2Z"
      },
      "source": [
        "#### Plotting curves"
      ]
    },
    {
      "cell_type": "code",
      "execution_count": 160,
      "metadata": {
        "id": "mAYYk_xyzNtj"
      },
      "outputs": [],
      "source": [
        "train_losses, val_losses, test_losses = train_losses, val_losses, test_losses\n",
        "train_accuracies, val_accuracies, test_accuracies = train_accuracies, val_accuracies, test_accuracies"
      ]
    },
    {
      "cell_type": "code",
      "execution_count": 161,
      "metadata": {
        "colab": {
          "base_uri": "https://localhost:8080/",
          "height": 549
        },
        "id": "rsx4L_KB1Ul4",
        "outputId": "bd214a51-7bad-4722-ea60-69041fc17b5e"
      },
      "outputs": [
        {
          "output_type": "display_data",
          "data": {
            "text/plain": [
              "<Figure size 1800x600 with 3 Axes>"
            ],
            "image/png": "[encoded data removed]"
          },
          "metadata": {}
        }
      ],
      "source": [
        "# Plotting the loss and accuracy curves\n",
        "plt.figure(figsize=(18, 6))\n",
        "\n",
        "# Plot Loss Curves\n",
        "plt.subplot(1, 3, 1)\n",
        "plt.plot(train_losses, label='Train')\n",
        "plt.plot(val_losses, label='Validation')\n",
        "plt.plot(test_losses, label='Test')  # New line for test loss\n",
        "plt.title('Loss Curve')\n",
        "plt.xlabel('Epochs')\n",
        "plt.ylabel('Loss')\n",
        "plt.legend()\n",
        "\n",
        "# Plot Accuracy Curves\n",
        "plt.subplot(1, 3, 2)\n",
        "plt.plot(train_accuracies, label='Train')\n",
        "plt.plot(val_accuracies, label='Validation')\n",
        "plt.plot(test_accuracies, label='Test')  # New line for test accuracy\n",
        "plt.title('Accuracy Curve')\n",
        "plt.xlabel('Epochs')\n",
        "plt.ylabel('Accuracy (%)')\n",
        "plt.legend()\n",
        "\n",
        "# Plot Test Accuracy\n",
        "plt.subplot(1, 3, 3)\n",
        "plt.plot(test_accuracies, label='Test')\n",
        "plt.title('Test Accuracy Curve')\n",
        "plt.xlabel('Epochs')\n",
        "plt.ylabel('Accuracy (%)')\n",
        "plt.legend()\n",
        "\n",
        "plt.tight_layout()\n",
        "plt.show()\n"
      ]
    },
    {
      "cell_type": "code",
      "source": [],
      "metadata": {
        "id": "zYO4tnsZdnnZ"
      },
      "execution_count": null,
      "outputs": []
    },
    {
      "cell_type": "code",
      "source": [],
      "metadata": {
        "id": "lN22Ov6TdnRm"
      },
      "execution_count": null,
      "outputs": []
    },
    {
      "cell_type": "code",
      "source": [],
      "metadata": {
        "id": "ye3pOXt3dnN8"
      },
      "execution_count": null,
      "outputs": []
    },
    {
      "cell_type": "code",
      "source": [],
      "metadata": {
        "id": "Xj72B77Odm-k"
      },
      "execution_count": null,
      "outputs": []
    },
    {
      "cell_type": "markdown",
      "metadata": {
        "id": "YnY3fGeAQjX6"
      },
      "source": [
        "## 3. Scratch\n"
      ]
    },
    {
      "cell_type": "code",
      "execution_count": 124,
      "metadata": {
        "id": "qidoCpVkQpHj"
      },
      "outputs": [],
      "source": [
        "class Linear:\n",
        "    def __init__(self,activation_type=\"Relu\",HeInitialization=True):\n",
        "        # Initialize weights and biases\n",
        "        self.w1 = torch.randn(784, 32, requires_grad=False)\n",
        "        self.b1 = torch.zeros(32, requires_grad=False)\n",
        "        self.w2 = torch.randn(32, 32, requires_grad=False)\n",
        "        self.b2 = torch.zeros(32, requires_grad=False)\n",
        "        self.w3 = torch.randn(32, 32, requires_grad=False)\n",
        "        self.b3 = torch.zeros(32, requires_grad=False)\n",
        "        self.w4 = torch.randn(32, 32, requires_grad=False)\n",
        "        self.b4 = torch.zeros(32, requires_grad=False)\n",
        "        self.w5 = torch.randn(32, 10, requires_grad=False)\n",
        "        self.b5 = torch.zeros(10, requires_grad=False)\n",
        "\n",
        "        if activation_type == \"ReLU\":\n",
        "            self.activation_function = F.relu\n",
        "            self.activation_function_derivative = self.relu_derivative\n",
        "        if activation_type == \"Sigmoid\":\n",
        "            self.activation_function = F.sigmoid\n",
        "            self.activation_function_derivative = self.sigmoid_derivative\n",
        "        if(HeInitialization):\n",
        "            self._initialize_weights()\n",
        "\n",
        "    # He - initalization\n",
        "    def _initialize_weights(self):\n",
        "        for weight, bias in [(self.w1, self.b1), (self.w2, self.b2), (self.w3, self.b3), (self.w4, self.b4), (self.w5, self.b5)]:\n",
        "            n = weight.size(1)\n",
        "            bound = math.sqrt(2/n)\n",
        "            nn.init.normal_(weight, mean=0, std=bound)\n",
        "            nn.init.zeros_(bias)\n",
        "\n",
        "    def softmax(self, x, dim=1):\n",
        "        e_x = torch.exp(x - torch.max(x, dim=dim, keepdim=True).values)  # Subtracting max(x) for numerical stability\n",
        "        return e_x / torch.sum(e_x, dim=dim, keepdim=True)\n",
        "\n",
        "    def forward(self, x):\n",
        "        # Forward pass for each layer\n",
        "        self.a1 = x @ self.w1 + self.b1\n",
        "        self.h1 = self.activation_function(self.a1)\n",
        "\n",
        "        self.a2 = self.h1 @ self.w2 + self.b2\n",
        "        self.h2 = self.activation_function(self.a2)\n",
        "\n",
        "        self.a3 = self.h2 @ self.w3 + self.b3\n",
        "        self.h3 = self.activation_function(self.a3)\n",
        "\n",
        "        self.a4 = self.h3 @ self.w4 + self.b4\n",
        "        self.h4 = self.activation_function(self.a4)\n",
        "\n",
        "        self.a5 = self.h4 @ self.w5 + self.b5\n",
        "        self.y_pred_prob = self.softmax(self.a5, dim=1)\n",
        "        return self.y_pred_prob\n",
        "\n",
        "    def compute_loss(self, y_pred, y_true):\n",
        "        eps = 1e-6\n",
        "        return -torch.sum(y_true * torch.log(y_pred + eps)) / y_true.shape[0]\n",
        "\n",
        "    def backward(self, x, y_true, y_pred, learning_rate):\n",
        "        # Output layer\n",
        "        d_a5 = y_pred - y_true\n",
        "        d_w5 = self.h4.t() @ d_a5\n",
        "        d_b5 = d_a5.sum(0)\n",
        "\n",
        "        # Layer 4\n",
        "        d_h4 = d_a5 @ self.w5.t()\n",
        "        d_h4 *= self.activation_function_derivative(self.a4)\n",
        "        d_w4 = self.h3.t() @ d_h4\n",
        "        d_b4 = d_h4.sum(0)\n",
        "\n",
        "        # Layer 3\n",
        "        d_h3 = d_h4 @ self.w4.t()\n",
        "        d_h3 *= self.activation_function_derivative(self.a3)\n",
        "        d_w3 = self.h2.t() @ d_h3\n",
        "        d_b3 = d_h3.sum(0)\n",
        "\n",
        "        # Layer 2\n",
        "        d_h2 = d_h3 @ self.w3.t()\n",
        "        d_h2 *= self.activation_function_derivative(self.a2)\n",
        "        d_w2 = self.h1.t() @ d_h2\n",
        "        d_b2 = d_h2.sum(0)\n",
        "\n",
        "        # Layer 1\n",
        "        d_h1 = d_h2 @ self.w2.t()\n",
        "        d_h1 *= self.activation_function_derivative(self.a1)\n",
        "        d_w1 = x.t() @ d_h1\n",
        "        d_b1 = d_h1.sum(0)\n",
        "\n",
        "        # Update weights and biases\n",
        "        with torch.no_grad():\n",
        "            self.w1 -= learning_rate * d_w1\n",
        "            self.b1 -= learning_rate * d_b1\n",
        "            self.w2 -= learning_rate * d_w2\n",
        "            self.b2 -= learning_rate * d_b2\n",
        "            self.w3 -= learning_rate * d_w3\n",
        "            self.b3 -= learning_rate * d_b3\n",
        "            self.w4 -= learning_rate * d_w4\n",
        "            self.b4 -= learning_rate * d_b4\n",
        "            self.w5 -= learning_rate * d_w5\n",
        "            self.b5 -= learning_rate * d_b5\n",
        "\n",
        "            # Zero gradients (manually, since we're not using autograd)\n",
        "            self.zero_gradients()\n",
        "\n",
        "    def sigmoid_derivative(self, x):\n",
        "        return F.sigmoid(x) * (1 - F.sigmoid(x))\n",
        "\n",
        "    def relu_derivative(self, x):\n",
        "        return torch.where(x > 0, torch.tensor(1.0), torch.tensor(0.0))\n",
        "\n",
        "    def zero_gradients(self):\n",
        "        # Manually zero the gradients\n",
        "        for param in [self.w1, self.b1, self.w2, self.b2, self.w3, self.b3, self.w4, self.b4, self.w5, self.b5]:\n",
        "            if param.grad is not None:\n",
        "                param.grad.zero_()"
      ]
    },
    {
      "cell_type": "markdown",
      "source": [
        "### scratch implementation\n",
        "with He-initialization\n",
        "> activation_function = \"ReLU\" -> Accuracy = 94%,94%,97% ;\n",
        "\n",
        "> activation_function = \"Sigmoid\" -> Accuracy = 92%,91%,91% ;\n",
        "\n",
        "without\n",
        "> activation_function = \"Sigmoid\" -> Accuracy = 86%,84%,85% ;\n",
        "\n",
        "\n"
      ],
      "metadata": {
        "id": "cyR9FMTMLLfh"
      }
    },
    {
      "cell_type": "code",
      "execution_count": 34,
      "metadata": {
        "colab": {
          "base_uri": "https://localhost:8080/",
          "height": 627
        },
        "id": "EETQ3ywNK9Sx",
        "outputId": "3c851301-8f86-45d4-a822-0d77db49f4e2"
      },
      "outputs": [
        {
          "output_type": "stream",
          "name": "stdout",
          "text": [
            "Training model of 5 layers with 32 neurons each for 60 epochs \n",
            "[learning rate is 0.0003]\n",
            "[Activation Function is Sigmoid]\n",
            "[HeInitialization is False]\n",
            "\n",
            "Epoch [01/60],  Train Loss: 2.3551, Train Accuracy: 19.17%, Val Loss: 2.1551, Val Accuracy: 25.19%, Test Loss: 2.1450, Test Accuracy: 25.07%\n",
            "Epoch [02/60],  Train Loss: 1.9599, Train Accuracy: 31.70%, Val Loss: 1.9232, Val Accuracy: 34.36%, Test Loss: 1.9142, Test Accuracy: 34.24%\n",
            "Epoch [03/60],  Train Loss: 1.7689, Train Accuracy: 40.43%, Val Loss: 1.7543, Val Accuracy: 42.10%, Test Loss: 1.7462, Test Accuracy: 41.21%\n",
            "Epoch [04/60],  Train Loss: 1.6202, Train Accuracy: 46.68%, Val Loss: 1.6157, Val Accuracy: 48.36%, Test Loss: 1.6108, Test Accuracy: 47.93%\n",
            "Epoch [05/60],  Train Loss: 1.4961, Train Accuracy: 51.16%, Val Loss: 1.4975, Val Accuracy: 52.50%, Test Loss: 1.4968, Test Accuracy: 52.26%\n",
            "Epoch [06/60],  Train Loss: 1.3899, Train Accuracy: 54.95%, Val Loss: 1.3956, Val Accuracy: 55.71%, Test Loss: 1.3979, Test Accuracy: 55.38%\n",
            "Epoch [07/60],  Train Loss: 1.2987, Train Accuracy: 58.01%, Val Loss: 1.3087, Val Accuracy: 58.83%, Test Loss: 1.3114, Test Accuracy: 58.81%\n",
            "Epoch [08/60],  Train Loss: 1.2211, Train Accuracy: 60.60%, Val Loss: 1.2360, Val Accuracy: 61.07%, Test Loss: 1.2372, Test Accuracy: 60.67%\n",
            "Epoch [09/60],  Train Loss: 1.1554, Train Accuracy: 62.70%, Val Loss: 1.1748, Val Accuracy: 62.83%, Test Loss: 1.1743, Test Accuracy: 63.05%\n",
            "Epoch [10/60],  "
          ]
        },
        {
          "output_type": "error",
          "ename": "KeyboardInterrupt",
          "evalue": "",
          "traceback": [
            "\u001b[0;31m---------------------------------------------------------------------------\u001b[0m",
            "\u001b[0;31mKeyboardInterrupt\u001b[0m                         Traceback (most recent call last)",
            "\u001b[0;32m<ipython-input-34-7a2a7236f5a1>\u001b[0m in \u001b[0;36m<cell line: 12>\u001b[0;34m()\u001b[0m\n\u001b[1;32m     16\u001b[0m     \u001b[0mtrain_running_loss\u001b[0m\u001b[0;34m,\u001b[0m \u001b[0mcorrect_train\u001b[0m\u001b[0;34m,\u001b[0m \u001b[0mtotal_train\u001b[0m \u001b[0;34m=\u001b[0m \u001b[0;36m0.0\u001b[0m\u001b[0;34m,\u001b[0m \u001b[0;36m0\u001b[0m\u001b[0;34m,\u001b[0m \u001b[0;36m0\u001b[0m\u001b[0;34m\u001b[0m\u001b[0;34m\u001b[0m\u001b[0m\n\u001b[1;32m     17\u001b[0m \u001b[0;34m\u001b[0m\u001b[0m\n\u001b[0;32m---> 18\u001b[0;31m     \u001b[0;32mfor\u001b[0m \u001b[0mdata\u001b[0m\u001b[0;34m,\u001b[0m \u001b[0mlabels\u001b[0m \u001b[0;32min\u001b[0m \u001b[0mtrain_dataloader\u001b[0m\u001b[0;34m:\u001b[0m\u001b[0;34m\u001b[0m\u001b[0;34m\u001b[0m\u001b[0m\n\u001b[0m\u001b[1;32m     19\u001b[0m         \u001b[0mdata\u001b[0m \u001b[0;34m=\u001b[0m \u001b[0mdata\u001b[0m\u001b[0;34m.\u001b[0m\u001b[0mview\u001b[0m\u001b[0;34m(\u001b[0m\u001b[0;34m-\u001b[0m\u001b[0;36m1\u001b[0m\u001b[0;34m,\u001b[0m \u001b[0;36m784\u001b[0m\u001b[0;34m)\u001b[0m\u001b[0;34m\u001b[0m\u001b[0;34m\u001b[0m\u001b[0m\n\u001b[1;32m     20\u001b[0m         \u001b[0mlabels\u001b[0m \u001b[0;34m=\u001b[0m \u001b[0mlabels\u001b[0m\u001b[0;34m.\u001b[0m\u001b[0msqueeze\u001b[0m\u001b[0;34m(\u001b[0m\u001b[0;34m)\u001b[0m\u001b[0;34m\u001b[0m\u001b[0;34m\u001b[0m\u001b[0m\n",
            "\u001b[0;32m<ipython-input-19-ac40c1253fc2>\u001b[0m in \u001b[0;36m__next__\u001b[0;34m(self)\u001b[0m\n\u001b[1;32m     31\u001b[0m         \u001b[0;31m# Convert the data and labels to tensors\u001b[0m\u001b[0;34m\u001b[0m\u001b[0;34m\u001b[0m\u001b[0m\n\u001b[1;32m     32\u001b[0m         \u001b[0mdata_tensor\u001b[0m \u001b[0;34m=\u001b[0m \u001b[0mtorch\u001b[0m\u001b[0;34m.\u001b[0m\u001b[0mstack\u001b[0m\u001b[0;34m(\u001b[0m\u001b[0;34m[\u001b[0m\u001b[0mtorch\u001b[0m\u001b[0;34m.\u001b[0m\u001b[0mTensor\u001b[0m\u001b[0;34m(\u001b[0m\u001b[0mitem\u001b[0m\u001b[0;34m)\u001b[0m \u001b[0;32mfor\u001b[0m \u001b[0mitem\u001b[0m \u001b[0;32min\u001b[0m \u001b[0mbatch\u001b[0m\u001b[0;34m[\u001b[0m\u001b[0;36m0\u001b[0m\u001b[0;34m]\u001b[0m\u001b[0;34m]\u001b[0m\u001b[0;34m)\u001b[0m\u001b[0;34m\u001b[0m\u001b[0;34m\u001b[0m\u001b[0m\n\u001b[0;32m---> 33\u001b[0;31m         \u001b[0mlabel_tensor\u001b[0m \u001b[0;34m=\u001b[0m \u001b[0mtorch\u001b[0m\u001b[0;34m.\u001b[0m\u001b[0mstack\u001b[0m\u001b[0;34m(\u001b[0m\u001b[0;34m[\u001b[0m\u001b[0mtorch\u001b[0m\u001b[0;34m.\u001b[0m\u001b[0mTensor\u001b[0m\u001b[0;34m(\u001b[0m\u001b[0mitem\u001b[0m\u001b[0;34m)\u001b[0m \u001b[0;32mfor\u001b[0m \u001b[0mitem\u001b[0m \u001b[0;32min\u001b[0m \u001b[0mbatch\u001b[0m\u001b[0;34m[\u001b[0m\u001b[0;36m1\u001b[0m\u001b[0;34m]\u001b[0m\u001b[0;34m]\u001b[0m\u001b[0;34m)\u001b[0m\u001b[0;34m\u001b[0m\u001b[0;34m\u001b[0m\u001b[0m\n\u001b[0m\u001b[1;32m     34\u001b[0m \u001b[0;34m\u001b[0m\u001b[0m\n\u001b[1;32m     35\u001b[0m         \u001b[0;31m# self.current_idx += self.batch_size\u001b[0m\u001b[0;34m\u001b[0m\u001b[0;34m\u001b[0m\u001b[0m\n",
            "\u001b[0;31mKeyboardInterrupt\u001b[0m: "
          ]
        }
      ],
      "source": [
        "activation_function = \"Sigmoid\" # [Sigmoid,ReLU]\n",
        "HeInitialization = False\n",
        "model = Linear(activation_type=activation_function,HeInitialization=HeInitialization)\n",
        "num_epochs = 60\n",
        "learning_rate = 0.0003\n",
        "\n",
        "train_losses, val_losses, test_losses, train_accuracies, val_accuracies, test_accuracies = [], [], [], [], [], []\n",
        "\n",
        "print(f\"Training model of 5 layers with 32 neurons each for {num_epochs} epochs \\n[learning rate is {learning_rate}]\\n[Activation Function is {activation_function}]\\n[HeInitialization is {HeInitialization}]\\n\")\n",
        "\n",
        "starting_time_scratch = time.time()\n",
        "for epoch in range(num_epochs):\n",
        "    print(f\"Epoch [{str(epoch + 1).zfill(len(str(num_epochs)))}/{num_epochs}], \", end=\" \")\n",
        "\n",
        "    # Training\n",
        "    train_running_loss, correct_train, total_train = 0.0, 0, 0\n",
        "\n",
        "    for data, labels in train_dataloader:\n",
        "        data = data.view(-1, 784)\n",
        "        labels = labels.squeeze()\n",
        "        labels_one_hot = F.one_hot(labels, num_classes=10).float()\n",
        "\n",
        "        y_pred = model.forward(data)\n",
        "\n",
        "        loss = model.compute_loss(y_pred, labels_one_hot)\n",
        "        model.backward(data, labels_one_hot, y_pred, learning_rate)\n",
        "\n",
        "        train_running_loss += loss\n",
        "        total_train += labels.size(0)\n",
        "        y_pred = torch.argmax(y_pred, dim=1)\n",
        "        correct_train += (y_pred == labels).sum().item()\n",
        "\n",
        "    train_losses.append(train_running_loss / len(train_dataloader))\n",
        "    train_accuracies.append(100 * correct_train / total_train)\n",
        "\n",
        "    # Validation\n",
        "    val_running_loss, correct_val, total_val = 0.0, 0, 0\n",
        "\n",
        "    with torch.no_grad():\n",
        "        for data, labels in val_dataloader:\n",
        "            data = data.view(-1, 784)\n",
        "            labels = labels.squeeze()\n",
        "            labels_one_hot = F.one_hot(labels, num_classes=10).float()\n",
        "\n",
        "            y_pred = model.forward(data)\n",
        "            loss = model.compute_loss(y_pred, labels_one_hot)\n",
        "\n",
        "            val_running_loss += loss\n",
        "            total_val += labels.size(0)\n",
        "            y_pred = torch.argmax(y_pred, dim=1)\n",
        "            correct_val += (y_pred == labels).sum().item()\n",
        "\n",
        "    val_losses.append(val_running_loss / len(val_dataloader))\n",
        "    val_accuracies.append(100 * correct_val / total_val)\n",
        "\n",
        "    # Testing\n",
        "    test_running_loss, correct_test, total_test = 0.0, 0, 0\n",
        "\n",
        "    with torch.no_grad():\n",
        "        for data, labels in test_dataloader:\n",
        "            data = data.view(-1, 784)\n",
        "            labels = labels.squeeze()\n",
        "            labels_one_hot = F.one_hot(labels, num_classes=10).float()\n",
        "\n",
        "            y_pred = model.forward(data)\n",
        "            loss = model.compute_loss(y_pred, labels_one_hot)\n",
        "\n",
        "            test_running_loss += loss\n",
        "            total_test += labels.size(0)\n",
        "            y_pred = torch.argmax(y_pred, dim=1)\n",
        "            correct_test += (y_pred == labels).sum().item()\n",
        "\n",
        "    test_losses.append(test_running_loss / len(test_dataloader))\n",
        "    test_accuracies.append(100 * correct_test / total_test)\n",
        "\n",
        "    print(\n",
        "        f\"Train Loss: {train_losses[-1]:.4f}, Train Accuracy: {train_accuracies[-1]:.2f}%, \"\n",
        "        f\"Val Loss: {val_losses[-1]:.4f}, Val Accuracy: {val_accuracies[-1]:.2f}%, \"\n",
        "        f\"Test Loss: {test_losses[-1]:.4f}, Test Accuracy: {test_accuracies[-1]:.2f}%\"\n",
        "    )\n",
        "\n",
        "ending_time_scratch = time.time()\n",
        "full_run_scratch = ending_time_scratch-starting_time_scratch\n",
        "print(f'Total Time taken = {full_run_scratch}')"
      ]
    },
    {
      "cell_type": "markdown",
      "metadata": {
        "id": "tSdar6W6E9i4"
      },
      "source": [
        "#### Ploting Results"
      ]
    },
    {
      "cell_type": "code",
      "execution_count": null,
      "metadata": {
        "id": "BAkj0h6Geokq"
      },
      "outputs": [],
      "source": [
        "# Plotting the loss and accuracy curves\n",
        "plt.figure(figsize=(18, 6))\n",
        "\n",
        "# Plot Loss Curves\n",
        "plt.subplot(1, 3, 1)\n",
        "plt.plot(train_losses, label='Train')\n",
        "plt.plot(val_losses, label='Validation')\n",
        "plt.plot(test_losses, label='Test')  # New line for test loss\n",
        "plt.title('Loss Curve')\n",
        "plt.xlabel('Epochs')\n",
        "plt.ylabel('Loss')\n",
        "plt.legend()\n",
        "\n",
        "# Plot Accuracy Curves\n",
        "plt.subplot(1, 3, 2)\n",
        "plt.plot(train_accuracies, label='Train')\n",
        "plt.plot(val_accuracies, label='Validation')\n",
        "plt.plot(test_accuracies, label='Test')  # New line for test accuracy\n",
        "plt.title('Accuracy Curve')\n",
        "plt.xlabel('Epochs')\n",
        "plt.ylabel('Accuracy (%)')\n",
        "plt.legend()\n",
        "\n",
        "# Plot Test Accuracy\n",
        "plt.subplot(1, 3, 3)\n",
        "plt.plot(test_accuracies, label='Test')\n",
        "plt.title('Test Accuracy Curve')\n",
        "plt.xlabel('Epochs')\n",
        "plt.ylabel('Accuracy (%)')\n",
        "plt.legend()\n",
        "\n",
        "plt.tight_layout()\n",
        "plt.show()"
      ]
    },
    {
      "cell_type": "markdown",
      "source": [
        "### Bonus 2\n",
        "time calculation for scratcch with backprogation"
      ],
      "metadata": {
        "id": "SloNZgcsQYqx"
      }
    },
    {
      "cell_type": "code",
      "source": [
        "activation_function = \"ReLU\"\n",
        "model = Linear(activation_type=activation_function)\n",
        "num_epochs = 60\n",
        "learning_rate = 0.0003\n",
        "\n",
        "train_losses, val_losses, test_losses, train_accuracies, val_accuracies, test_accuracies,full_run_scratch = [], [], [], [], [], [],[]\n",
        "\n",
        "print(f\"Training model of 5 layers with 32 neurons each for {num_epochs} epochs \\n[learning rate is {learning_rate}]\\n[Activation Function is {activation_function}]\\n\")\n",
        "\n",
        "for epoch in range(num_epochs):\n",
        "    print(f\"Epoch [{str(epoch + 1).zfill(len(str(num_epochs)))}/{num_epochs}], \", end=\" \")\n",
        "\n",
        "    # Training\n",
        "    train_running_loss, correct_train, total_train = 0.0, 0, 0\n",
        "\n",
        "    starting_time_sratch_epoch = time.time()\n",
        "    for data, labels in train_dataloader:\n",
        "        data = data.view(-1, 784)\n",
        "        labels = labels.squeeze()\n",
        "        labels_one_hot = F.one_hot(labels, num_classes=10).float()\n",
        "\n",
        "        y_pred = model.forward(data)\n",
        "\n",
        "        loss = model.compute_loss(y_pred, labels_one_hot)\n",
        "        model.backward(data, labels_one_hot, y_pred, learning_rate)\n",
        "\n",
        "        train_running_loss += loss\n",
        "        total_train += labels.size(0)\n",
        "        y_pred = torch.argmax(y_pred, dim=1)\n",
        "        correct_train += (y_pred == labels).sum().item()\n",
        "    ending_time_scratch_epoch = time.time()\n",
        "    full_run_scratch.append(ending_time_scratch_epoch-starting_time_sratch_epoch)\n",
        "\n",
        "    train_losses.append(train_running_loss / len(train_dataloader))\n",
        "    train_accuracies.append(100 * correct_train / total_train)\n",
        "\n",
        "    print(\n",
        "        f\"Train Loss: {train_losses[-1]:.4f}, Train Accuracy: {train_accuracies[-1]:.2f}%, \"\n",
        "        # f\"Val Loss: {val_losses[-1]:.4f}, Val Accuracy: {val_accuracies[-1]:.2f}%, \"\n",
        "        # f\"Test Loss: {test_losses[-1]:.4f}, Test Accuracy: {test_accuracies[-1]:.2f}%\"\n",
        "    )\n",
        "\n",
        "print(f'Total Time taken = {sum(full_run_scratch)}, minimun epoch timing = {min(full_run_scratch)}')\n",
        "print(full_run_scratch)"
      ],
      "metadata": {
        "id": "4DQdEdC7QP4r"
      },
      "execution_count": null,
      "outputs": []
    },
    {
      "cell_type": "code",
      "source": [
        "print(f'Total Time taken = {sum(full_run_scratch)}, minimun epoch timing = {min(full_run_scratch)}')\n",
        "print(full_run_scratch)\n",
        "\n",
        "plt.plot(full_run_scratch)\n",
        "\n",
        "# Add labels and title\n",
        "plt.xlabel('#epochs')\n",
        "plt.ylabel('Time per epoch')\n",
        "plt.title('Time for training')\n",
        "\n",
        "# Show the plot\n",
        "plt.show()"
      ],
      "metadata": {
        "id": "D4A0lWVLUjHR"
      },
      "execution_count": null,
      "outputs": []
    },
    {
      "cell_type": "markdown",
      "source": [
        "https://colab.research.google.com/drive/1GW0p__zZTYMNKSA3nE4eFnbRBK4KyoS1?usp=sharing"
      ],
      "metadata": {
        "id": "bO1I4-ZxUxSP"
      }
    }
  ],
  "metadata": {
    "colab": {
      "provenance": []
    },
    "kernelspec": {
      "display_name": "Python 3",
      "name": "python3"
    },
    "language_info": {
      "name": "python"
    }
  },
  "nbformat": 4,
  "nbformat_minor": 0
}